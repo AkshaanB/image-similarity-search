{
 "cells": [
  {
   "cell_type": "code",
   "execution_count": 1,
   "metadata": {},
   "outputs": [
    {
     "name": "stderr",
     "output_type": "stream",
     "text": [
      "c:\\Users\\akshanb\\AppData\\Local\\miniconda3\\envs\\research\\lib\\site-packages\\sentence_transformers\\cross_encoder\\CrossEncoder.py:11: TqdmWarning: IProgress not found. Please update jupyter and ipywidgets. See https://ipywidgets.readthedocs.io/en/stable/user_install.html\n",
      "  from tqdm.autonotebook import tqdm, trange\n"
     ]
    }
   ],
   "source": [
    "import os\n",
    "import faiss\n",
    "import numpy as np\n",
    "from PIL import Image\n",
    "from glob import glob\n",
    "from typing import Union, List\n",
    "import matplotlib.pyplot as plt\n",
    "from sentence_transformers import SentenceTransformer"
   ]
  },
  {
   "cell_type": "code",
   "execution_count": 2,
   "metadata": {},
   "outputs": [],
   "source": [
    "image_folder = '../images'\n",
    "index_path = './image_indexes.index'\n",
    "model = SentenceTransformer('clip-ViT-B-32')"
   ]
  },
  {
   "cell_type": "code",
   "execution_count": 3,
   "metadata": {},
   "outputs": [],
   "source": [
    "def get_image_paths(images_path: str):\n",
    "    image_patterns = ['.png', '.jpg', '.jpeg', '.bmp', '.gif', '.tiff', '.webp']\n",
    "\n",
    "    image_paths = []\n",
    "    for filename in os.listdir(images_path):\n",
    "        ext = os.path.splitext(filename)[1].lower()\n",
    "        \n",
    "        if ext in image_patterns:\n",
    "            full_path = os.path.join(images_path, filename)\n",
    "            image_paths.append(full_path)\n",
    "    \n",
    "    return image_paths"
   ]
  },
  {
   "cell_type": "code",
   "execution_count": 4,
   "metadata": {},
   "outputs": [],
   "source": [
    "def generate_embeddings(images_path: str) -> Union[List, str]:\n",
    "    image_paths = get_image_paths(images_path)\n",
    "\n",
    "    embeddings = []\n",
    "    for img_path in image_paths:\n",
    "        image = Image.open(img_path)\n",
    "\n",
    "        embedding = model.encode(image)\n",
    "        embeddings.append(embedding)\n",
    "\n",
    "    return embeddings, image_paths\n",
    "\n",
    "embeddings, image_paths = generate_embeddings(image_folder)"
   ]
  },
  {
   "cell_type": "code",
   "execution_count": 5,
   "metadata": {},
   "outputs": [],
   "source": [
    "def create_faiss_index(embeddings: list, image_paths: str, output_path: str):\n",
    "\n",
    "    dimension = len(embeddings[0])\n",
    "    index = faiss.IndexFlatIP(dimension)\n",
    "    index = faiss.IndexIDMap(index)\n",
    "\n",
    "    vectors = np.array(embeddings).astype(np.float32)\n",
    "\n",
    "    index.add_with_ids(vectors, np.array(range(len(embeddings))))\n",
    "\n",
    "    faiss.write_index(index, output_path)\n",
    "\n",
    "    with open(output_path + '.paths', 'w') as f:\n",
    "        for img_path in image_paths:\n",
    "            f.write(img_path + '\\n')\n",
    "\n",
    "\n",
    "    return index\n",
    "\n",
    "index = create_faiss_index(embeddings, image_paths, index_path)"
   ]
  },
  {
   "cell_type": "code",
   "execution_count": 34,
   "metadata": {},
   "outputs": [],
   "source": [
    "def load_faiss_index(index_path: str):\n",
    "    index = faiss.read_index(index_path)\n",
    "    with open(index_path + '.paths', 'r') as f:\n",
    "        image_paths = [line.strip() for line in f]\n",
    "\n",
    "    return index, image_paths\n",
    "\n",
    "index, image_paths = load_faiss_index(index_path)"
   ]
  },
  {
   "cell_type": "code",
   "execution_count": 35,
   "metadata": {},
   "outputs": [],
   "source": [
    "def retrieve_images(model, index, query: str, image_paths: str, top_k: int):\n",
    "    \n",
    "    query_embeddings = model.encode(query)\n",
    "    query_embeddings = query_embeddings.astype(np.float32).reshape(1,-1)\n",
    "\n",
    "    distances, indices = index.search(query_embeddings, top_k)\n",
    "\n",
    "    retrieved_images = [image_paths[int(idx)] for idx in indices[0]]\n",
    "\n",
    "    return query, retrieved_images"
   ]
  },
  {
   "cell_type": "code",
   "execution_count": 36,
   "metadata": {},
   "outputs": [],
   "source": [
    "def visualize_results(query, retrieved_images):\n",
    "    plt.figure(figsize=(12, 5))\n",
    "\n",
    "    plt.subplot(1, len(retrieved_images) + 1, 1)\n",
    "    plt.text(0.5, 0.5, f\"Query:\\n\\n '{query}'\", fontsize=16, ha='center', va='center')\n",
    "    plt.axis('off')\n",
    "    start_idx = 2\n",
    "\n",
    "    for i, img_path in enumerate(retrieved_images):\n",
    "\n",
    "        plt.subplot(1, len(retrieved_images) + 1, i + start_idx)\n",
    "        plt.imshow(Image.open(img_path))\n",
    "        plt.title(f\"Match {i + 1}\")\n",
    "        plt.axis('off')\n",
    "\n",
    "    plt.show()"
   ]
  },
  {
   "cell_type": "markdown",
   "metadata": {},
   "source": [
    "Test"
   ]
  },
  {
   "cell_type": "code",
   "execution_count": null,
   "metadata": {},
   "outputs": [],
   "source": [
    "query = 'a lighthouse'\n",
    "query, retrieved_images = retrieve_images(model, index, query, image_paths, top_k=1)\n",
    "visualize_results(query, retrieved_images)"
   ]
  }
 ],
 "metadata": {
  "kernelspec": {
   "display_name": "research",
   "language": "python",
   "name": "python3"
  },
  "language_info": {
   "codemirror_mode": {
    "name": "ipython",
    "version": 3
   },
   "file_extension": ".py",
   "mimetype": "text/x-python",
   "name": "python",
   "nbconvert_exporter": "python",
   "pygments_lexer": "ipython3",
   "version": "3.9.18"
  }
 },
 "nbformat": 4,
 "nbformat_minor": 2
}
